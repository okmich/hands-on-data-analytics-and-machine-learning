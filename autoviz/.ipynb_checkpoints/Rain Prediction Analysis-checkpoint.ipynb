{
 "cells": [
  {
   "cell_type": "code",
   "execution_count": null,
   "id": "6e5b4602",
   "metadata": {},
   "outputs": [],
   "source": [
    "import numpy as np\n",
    "import pandas as pd\n",
    "import matplotlib.pyplot as plt\n",
    "\n",
    "import pandas as pd\n",
    "from autoviz import AutoViz_Class\n",
    "\n",
    "import os\n",
    "\n",
    "%matplotlib inline"
   ]
  },
  {
   "cell_type": "code",
   "execution_count": null,
   "id": "e28bca96",
   "metadata": {},
   "outputs": [],
   "source": [
    "data_path = os.path.join('..', '..', 'data', 'weatherAUS.csv')\n",
    "data = pd.read_csv(data_path)\n",
    "data['Date'] = pd.to_datetime(data['Date'])\n",
    "data['month'] = data['Date'].dt.month\n",
    "data['year'] = data['Date'].dt.year"
   ]
  },
  {
   "cell_type": "code",
   "execution_count": null,
   "id": "af4e9b10",
   "metadata": {},
   "outputs": [],
   "source": [
    "# autoviz doesn't do well with independent variables that are objects, so I create a numeric equivalent\n",
    "data.loc[data['RainTomorrow'] == 'No', 'RainTomorrowFlag'] = 0\n",
    "data.loc[data['RainTomorrow'] == 'Yes', 'RainTomorrowFlag'] = 1\n",
    "\n",
    "data = data.drop(columns=['Date', 'RainTomorrow'], axis=1)"
   ]
  },
  {
   "cell_type": "code",
   "execution_count": null,
   "id": "196bc5fc",
   "metadata": {},
   "outputs": [],
   "source": [
    "data.info()"
   ]
  },
  {
   "cell_type": "code",
   "execution_count": null,
   "id": "a1d4dc2b",
   "metadata": {
    "scrolled": false
   },
   "outputs": [],
   "source": [
    "AV = AutoViz_Class()\n",
    "dft = AV.AutoViz(\n",
    "    \"\",\n",
    "    sep=',',\n",
    "    depVar=\"RainTomorrowFlag\",\n",
    "    dfte=data,\n",
    "    verbose=1,\n",
    "    lowess=False,\n",
    "    chart_format=\"bokeh\",\n",
    "    max_rows_analyzed=150000,\n",
    "    max_cols_analyzed=30,\n",
    "    save_plot_dir=None\n",
    ")"
   ]
  }
 ],
 "metadata": {
  "kernelspec": {
   "display_name": "python[pycaret]",
   "language": "python",
   "name": "pycaret_env"
  },
  "language_info": {
   "codemirror_mode": {
    "name": "ipython",
    "version": 3
   },
   "file_extension": ".py",
   "mimetype": "text/x-python",
   "name": "python",
   "nbconvert_exporter": "python",
   "pygments_lexer": "ipython3",
   "version": "3.10.11"
  }
 },
 "nbformat": 4,
 "nbformat_minor": 5
}
